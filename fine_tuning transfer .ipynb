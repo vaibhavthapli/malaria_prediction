{
 "cells": [
  {
   "cell_type": "code",
   "execution_count": 1,
   "id": "disciplinary-comment",
   "metadata": {},
   "outputs": [],
   "source": [
    "import os\n",
    "import keras\n",
    "import tensorflow as tf\n",
    "import numpy as np\n",
    "import pandas as pd\n",
    "import matplotlib.pyplot as plt\n",
    "import seaborn as sns\n",
    "import cv2\n",
    "import random\n",
    "import glob\n",
    "from shutil import copyfile"
   ]
  },
  {
   "cell_type": "code",
   "execution_count": 3,
   "id": "hearing-wichita",
   "metadata": {},
   "outputs": [
    {
     "name": "stdout",
     "output_type": "stream",
     "text": [
      "13623\n",
      "13636\n",
      "2599\n",
      "2612\n"
     ]
    }
   ],
   "source": [
    "print(len(os.listdir(\"cell/training/healthy/\")))\n",
    "print(len(os.listdir(\"cell/training/infected/\")))\n",
    "\n",
    "print(len(os.listdir(\"cell/validation/healthy/\")))\n",
    "print(len(os.listdir(\"cell/validation/infected/\")))"
   ]
  },
  {
   "cell_type": "code",
   "execution_count": 4,
   "id": "controlling-particle",
   "metadata": {},
   "outputs": [],
   "source": [
    "train = \"cell/training/\"\n",
    "validation = \"cell/validation/\""
   ]
  },
  {
   "cell_type": "code",
   "execution_count": null,
   "id": "roman-context",
   "metadata": {},
   "outputs": [],
   "source": [
    "from tensorflow.compat.v1 import ConfigProto\n",
    "from tensorflow.compat.v1 import InteractiveSession\n",
    "\n",
    "config = ConfigProto()\n"
   ]
  },
  {
   "cell_type": "markdown",
   "id": "thousand-issue",
   "metadata": {},
   "source": [
    "Data augmentation , pretrained model"
   ]
  },
  {
   "cell_type": "code",
   "execution_count": 4,
   "id": "northern-jimmy",
   "metadata": {},
   "outputs": [
    {
     "name": "stdout",
     "output_type": "stream",
     "text": [
      "Found 27257 images belonging to 2 classes.\n",
      "Found 5211 images belonging to 2 classes.\n"
     ]
    }
   ],
   "source": [
    "from keras.preprocessing.image import ImageDataGenerator\n",
    "\n",
    "train_datagen = ImageDataGenerator(\n",
    "    rescale= 1./255,\n",
    "    featurewise_center=True,\n",
    "    featurewise_std_normalization=True,\n",
    "    rotation_range=20,\n",
    "    width_shift_range=0.2,\n",
    "    height_shift_range=0.2,\n",
    "    shear_range = 0.2,\n",
    "    zoom_range = 0.2,\n",
    "    horizontal_flip = True,\n",
    "    vertical_flip = True,\n",
    "    fill_mode = 'nearest')\n",
    "\n",
    "\n",
    "train_ds = train_datagen.flow_from_directory(train,\n",
    "                                              batch_size = 20,\n",
    "                                              class_mode = \"binary\",\n",
    "                                              target_size = (150,150)) # resize\n",
    "\n",
    "validation_datagen = ImageDataGenerator(rescale = 1.0/255.) # rescale\n",
    "validaton_data = validation_datagen.flow_from_directory(validation,\n",
    "                                                       batch_size = 20,\n",
    "                                                       class_mode = \"binary\",\n",
    "                                                       target_size = (150,150))"
   ]
  },
  {
   "cell_type": "code",
   "execution_count": 5,
   "id": "presidential-productivity",
   "metadata": {},
   "outputs": [
    {
     "data": {
      "text/plain": [
       "{'healthy': 0, 'infected': 1}"
      ]
     },
     "execution_count": 5,
     "metadata": {},
     "output_type": "execute_result"
    }
   ],
   "source": [
    "train_ds.class_indices"
   ]
  },
  {
   "cell_type": "code",
   "execution_count": 6,
   "id": "industrial-absorption",
   "metadata": {},
   "outputs": [],
   "source": [
    "# pretrained model\n",
    "\n",
    "from keras.applications import VGG16\n",
    "vgg = VGG16(weights= \"imagenet\",include_top=False, input_shape = (150,150,3))"
   ]
  },
  {
   "cell_type": "code",
   "execution_count": 7,
   "id": "monetary-stuart",
   "metadata": {},
   "outputs": [],
   "source": [
    "from keras.models import Model\n",
    "from keras import layers, models\n",
    "  \n",
    "x = layers.Flatten()(vgg.output)\n",
    "x = layers.Dense(84, activation = ('relu'))(x)\n",
    "prediction = layers.Dense(1, activation=\"sigmoid\")(x)"
   ]
  },
  {
   "cell_type": "code",
   "execution_count": 8,
   "id": "wicked-stopping",
   "metadata": {},
   "outputs": [],
   "source": [
    "# create a model object\n",
    "model = Model(inputs=vgg.input, outputs=prediction)"
   ]
  },
  {
   "cell_type": "code",
   "execution_count": 9,
   "id": "ignored-arrangement",
   "metadata": {},
   "outputs": [
    {
     "name": "stdout",
     "output_type": "stream",
     "text": [
      "Model: \"model\"\n",
      "_________________________________________________________________\n",
      "Layer (type)                 Output Shape              Param #   \n",
      "=================================================================\n",
      "input_1 (InputLayer)         [(None, 150, 150, 3)]     0         \n",
      "_________________________________________________________________\n",
      "block1_conv1 (Conv2D)        (None, 150, 150, 64)      1792      \n",
      "_________________________________________________________________\n",
      "block1_conv2 (Conv2D)        (None, 150, 150, 64)      36928     \n",
      "_________________________________________________________________\n",
      "block1_pool (MaxPooling2D)   (None, 75, 75, 64)        0         \n",
      "_________________________________________________________________\n",
      "block2_conv1 (Conv2D)        (None, 75, 75, 128)       73856     \n",
      "_________________________________________________________________\n",
      "block2_conv2 (Conv2D)        (None, 75, 75, 128)       147584    \n",
      "_________________________________________________________________\n",
      "block2_pool (MaxPooling2D)   (None, 37, 37, 128)       0         \n",
      "_________________________________________________________________\n",
      "block3_conv1 (Conv2D)        (None, 37, 37, 256)       295168    \n",
      "_________________________________________________________________\n",
      "block3_conv2 (Conv2D)        (None, 37, 37, 256)       590080    \n",
      "_________________________________________________________________\n",
      "block3_conv3 (Conv2D)        (None, 37, 37, 256)       590080    \n",
      "_________________________________________________________________\n",
      "block3_pool (MaxPooling2D)   (None, 18, 18, 256)       0         \n",
      "_________________________________________________________________\n",
      "block4_conv1 (Conv2D)        (None, 18, 18, 512)       1180160   \n",
      "_________________________________________________________________\n",
      "block4_conv2 (Conv2D)        (None, 18, 18, 512)       2359808   \n",
      "_________________________________________________________________\n",
      "block4_conv3 (Conv2D)        (None, 18, 18, 512)       2359808   \n",
      "_________________________________________________________________\n",
      "block4_pool (MaxPooling2D)   (None, 9, 9, 512)         0         \n",
      "_________________________________________________________________\n",
      "block5_conv1 (Conv2D)        (None, 9, 9, 512)         2359808   \n",
      "_________________________________________________________________\n",
      "block5_conv2 (Conv2D)        (None, 9, 9, 512)         2359808   \n",
      "_________________________________________________________________\n",
      "block5_conv3 (Conv2D)        (None, 9, 9, 512)         2359808   \n",
      "_________________________________________________________________\n",
      "block5_pool (MaxPooling2D)   (None, 4, 4, 512)         0         \n",
      "_________________________________________________________________\n",
      "flatten (Flatten)            (None, 8192)              0         \n",
      "_________________________________________________________________\n",
      "dense (Dense)                (None, 84)                688212    \n",
      "_________________________________________________________________\n",
      "dense_1 (Dense)              (None, 1)                 85        \n",
      "=================================================================\n",
      "Total params: 15,402,985\n",
      "Trainable params: 15,402,985\n",
      "Non-trainable params: 0\n",
      "_________________________________________________________________\n"
     ]
    }
   ],
   "source": [
    "model.summary()"
   ]
  },
  {
   "cell_type": "code",
   "execution_count": 10,
   "id": "precise-bidding",
   "metadata": {},
   "outputs": [],
   "source": [
    "for layer in vgg.layers:\n",
    "    layer.trainable = True"
   ]
  },
  {
   "cell_type": "code",
   "execution_count": 11,
   "id": "checked-romania",
   "metadata": {},
   "outputs": [],
   "source": [
    "from keras.optimizers import Adam\n",
    "\n",
    "optimizer = keras.optimizers.Adam(lr=0.001,decay = 0.01)\n",
    "model.compile(loss = \"binary_crossentropy\",\n",
    "             optimizer = optimizer,\n",
    "             metrics = [\"accuracy\"])"
   ]
  },
  {
   "cell_type": "code",
   "execution_count": 12,
   "id": "fourth-louisville",
   "metadata": {},
   "outputs": [],
   "source": [
    "# checkpoint\n",
    "from keras.callbacks import ModelCheckpoint\n",
    "filepath=\"finetuning_tranfer_model.best.hdf5\"\n",
    "checkpoint = ModelCheckpoint(filepath, monitor='val_accuracy', verbose=1, save_best_only=True,save_weights_only=True, mode='max')\n",
    "callbacks_list = [checkpoint]"
   ]
  },
  {
   "cell_type": "code",
   "execution_count": 13,
   "id": "owned-wells",
   "metadata": {},
   "outputs": [
    {
     "name": "stderr",
     "output_type": "stream",
     "text": [
      "C:\\Users\\vaibh\\miniconda3\\envs\\Ai\\lib\\site-packages\\tensorflow\\python\\keras\\engine\\training.py:1844: UserWarning: `Model.fit_generator` is deprecated and will be removed in a future version. Please use `Model.fit`, which supports generators.\n",
      "  warnings.warn('`Model.fit_generator` is deprecated and '\n",
      "C:\\Users\\vaibh\\miniconda3\\envs\\Ai\\lib\\site-packages\\keras_preprocessing\\image\\image_data_generator.py:720: UserWarning: This ImageDataGenerator specifies `featurewise_center`, but it hasn't been fit on any training data. Fit it first by calling `.fit(numpy_data)`.\n",
      "  warnings.warn('This ImageDataGenerator specifies '\n",
      "C:\\Users\\vaibh\\miniconda3\\envs\\Ai\\lib\\site-packages\\keras_preprocessing\\image\\image_data_generator.py:728: UserWarning: This ImageDataGenerator specifies `featurewise_std_normalization`, but it hasn't been fit on any training data. Fit it first by calling `.fit(numpy_data)`.\n",
      "  warnings.warn('This ImageDataGenerator specifies '\n"
     ]
    },
    {
     "name": "stdout",
     "output_type": "stream",
     "text": [
      "Epoch 1/21\n",
      "1362/1362 [==============================] - 632s 450ms/step - loss: 0.7357 - accuracy: 0.5553 - val_loss: 0.6249 - val_accuracy: 0.6598\n",
      "\n",
      "Epoch 00001: val_accuracy improved from -inf to 0.65981, saving model to finetuning_tranfer_model.best.hdf5\n",
      "Epoch 2/21\n",
      "1362/1362 [==============================] - 623s 458ms/step - loss: 0.5557 - accuracy: 0.7101 - val_loss: 0.1859 - val_accuracy: 0.9471\n",
      "\n",
      "Epoch 00002: val_accuracy improved from 0.65981 to 0.94712, saving model to finetuning_tranfer_model.best.hdf5\n",
      "Epoch 3/21\n",
      "1362/1362 [==============================] - 674s 495ms/step - loss: 0.2264 - accuracy: 0.9265 - val_loss: 0.1555 - val_accuracy: 0.9510\n",
      "\n",
      "Epoch 00003: val_accuracy improved from 0.94712 to 0.95096, saving model to finetuning_tranfer_model.best.hdf5\n",
      "Epoch 4/21\n",
      "1362/1362 [==============================] - 702s 515ms/step - loss: 0.2074 - accuracy: 0.9313 - val_loss: 0.1464 - val_accuracy: 0.9533\n",
      "\n",
      "Epoch 00004: val_accuracy improved from 0.95096 to 0.95327, saving model to finetuning_tranfer_model.best.hdf5\n",
      "Epoch 5/21\n",
      "1362/1362 [==============================] - 744s 546ms/step - loss: 0.1913 - accuracy: 0.9348 - val_loss: 0.1371 - val_accuracy: 0.9552\n",
      "\n",
      "Epoch 00005: val_accuracy improved from 0.95327 to 0.95519, saving model to finetuning_tranfer_model.best.hdf5\n",
      "Epoch 6/21\n",
      "1362/1362 [==============================] - 752s 552ms/step - loss: 0.1851 - accuracy: 0.9371 - val_loss: 0.1274 - val_accuracy: 0.9577\n",
      "\n",
      "Epoch 00006: val_accuracy improved from 0.95519 to 0.95769, saving model to finetuning_tranfer_model.best.hdf5\n",
      "Epoch 7/21\n",
      "1362/1362 [==============================] - 759s 557ms/step - loss: 0.1727 - accuracy: 0.9424 - val_loss: 0.1257 - val_accuracy: 0.9562\n",
      "\n",
      "Epoch 00007: val_accuracy did not improve from 0.95769\n",
      "Epoch 8/21\n",
      "1362/1362 [==============================] - 909s 667ms/step - loss: 0.1736 - accuracy: 0.9394 - val_loss: 0.1212 - val_accuracy: 0.9592\n",
      "\n",
      "Epoch 00008: val_accuracy improved from 0.95769 to 0.95923, saving model to finetuning_tranfer_model.best.hdf5\n",
      "Epoch 9/21\n",
      "1362/1362 [==============================] - 944s 693ms/step - loss: 0.1694 - accuracy: 0.9402 - val_loss: 0.1159 - val_accuracy: 0.9613\n",
      "\n",
      "Epoch 00009: val_accuracy improved from 0.95923 to 0.96135, saving model to finetuning_tranfer_model.best.hdf5\n",
      "Epoch 10/21\n",
      "1362/1362 [==============================] - 994s 730ms/step - loss: 0.1581 - accuracy: 0.9455 - val_loss: 0.1124 - val_accuracy: 0.9617\n",
      "\n",
      "Epoch 00010: val_accuracy improved from 0.96135 to 0.96173, saving model to finetuning_tranfer_model.best.hdf5\n",
      "Epoch 11/21\n",
      "1362/1362 [==============================] - 1032s 757ms/step - loss: 0.1626 - accuracy: 0.9460 - val_loss: 0.1144 - val_accuracy: 0.9621\n",
      "\n",
      "Epoch 00011: val_accuracy improved from 0.96173 to 0.96212, saving model to finetuning_tranfer_model.best.hdf5\n",
      "Epoch 12/21\n",
      "1362/1362 [==============================] - 961s 705ms/step - loss: 0.1572 - accuracy: 0.9454 - val_loss: 0.1143 - val_accuracy: 0.9612\n",
      "\n",
      "Epoch 00012: val_accuracy did not improve from 0.96212\n",
      "Epoch 13/21\n",
      "1362/1362 [==============================] - 954s 700ms/step - loss: 0.1603 - accuracy: 0.9430 - val_loss: 0.1118 - val_accuracy: 0.9619\n",
      "\n",
      "Epoch 00013: val_accuracy did not improve from 0.96212\n",
      "Epoch 14/21\n",
      "1362/1362 [==============================] - 912s 670ms/step - loss: 0.1545 - accuracy: 0.9455 - val_loss: 0.1097 - val_accuracy: 0.9613\n",
      "\n",
      "Epoch 00014: val_accuracy did not improve from 0.96212\n",
      "Epoch 15/21\n",
      "1362/1362 [==============================] - 905s 664ms/step - loss: 0.1604 - accuracy: 0.9427 - val_loss: 0.1116 - val_accuracy: 0.9612\n",
      "\n",
      "Epoch 00015: val_accuracy did not improve from 0.96212\n",
      "Epoch 16/21\n",
      "1362/1362 [==============================] - 880s 646ms/step - loss: 0.1507 - accuracy: 0.9464 - val_loss: 0.1078 - val_accuracy: 0.9623\n",
      "\n",
      "Epoch 00016: val_accuracy improved from 0.96212 to 0.96231, saving model to finetuning_tranfer_model.best.hdf5\n",
      "Epoch 17/21\n",
      "1362/1362 [==============================] - 901s 662ms/step - loss: 0.1521 - accuracy: 0.9476 - val_loss: 0.1062 - val_accuracy: 0.9627\n",
      "\n",
      "Epoch 00017: val_accuracy improved from 0.96231 to 0.96269, saving model to finetuning_tranfer_model.best.hdf5\n",
      "Epoch 18/21\n",
      "1362/1362 [==============================] - 1111s 816ms/step - loss: 0.1560 - accuracy: 0.9444 - val_loss: 0.1053 - val_accuracy: 0.9642\n",
      "\n",
      "Epoch 00018: val_accuracy improved from 0.96269 to 0.96423, saving model to finetuning_tranfer_model.best.hdf5\n",
      "Epoch 19/21\n",
      "1362/1362 [==============================] - 1125s 826ms/step - loss: 0.1526 - accuracy: 0.9455 - val_loss: 0.1083 - val_accuracy: 0.9621\n",
      "\n",
      "Epoch 00019: val_accuracy did not improve from 0.96423\n",
      "Epoch 20/21\n",
      "1362/1362 [==============================] - 1215s 892ms/step - loss: 0.1471 - accuracy: 0.9473 - val_loss: 0.1054 - val_accuracy: 0.9621\n",
      "\n",
      "Epoch 00020: val_accuracy did not improve from 0.96423\n",
      "Epoch 21/21\n",
      "1362/1362 [==============================] - 1178s 865ms/step - loss: 0.1488 - accuracy: 0.9450 - val_loss: 0.1046 - val_accuracy: 0.9625\n",
      "\n",
      "Epoch 00021: val_accuracy did not improve from 0.96423\n"
     ]
    }
   ],
   "source": [
    "history = model.fit_generator(train_ds,epochs = 21, \n",
    "                              steps_per_epoch = 27257//20, # images = batch_size * steps\n",
    "                              validation_data = validaton_data,\n",
    "                              validation_steps=5211//20,\n",
    "                             callbacks=callbacks_list)"
   ]
  },
  {
   "cell_type": "code",
   "execution_count": 14,
   "id": "indirect-speaking",
   "metadata": {},
   "outputs": [
    {
     "data": {
      "image/png": "[encoded data removed]",
      "text/plain": [
       "<Figure size 432x288 with 1 Axes>"
      ]
     },
     "metadata": {
      "needs_background": "light"
     },
     "output_type": "display_data"
    },
    {
     "data": {
      "image/png": "[encoded data removed]",
      "text/plain": [
       "<Figure size 432x288 with 1 Axes>"
      ]
     },
     "metadata": {
      "needs_background": "light"
     },
     "output_type": "display_data"
    }
   ],
   "source": [
    "acc = history.history['accuracy']\n",
    "val_acc = history.history['val_accuracy']\n",
    "loss = history.history['loss']\n",
    "val_loss = history.history['val_loss']\n",
    "\n",
    "epochs = range(len(acc))\n",
    "\n",
    "plt.plot(epochs, acc, 'bo', label='Training accuracy')\n",
    "plt.plot(epochs, val_acc, 'b', label='Validation accuracy')\n",
    "plt.title('Training and validation accuracy')\n",
    "plt.legend()\n",
    "plt.figure()\n",
    "\n",
    "plt.plot(epochs, loss, 'bo', label='Training Loss')\n",
    "plt.plot(epochs, val_loss, 'b', label='Validation Loss')\n",
    "plt.title('Training and validation loss')\n",
    "plt.legend()\n",
    "\n",
    "plt.show() "
   ]
  },
  {
   "cell_type": "code",
   "execution_count": null,
   "id": "dangerous-living",
   "metadata": {},
   "outputs": [],
   "source": []
  }
 ],
 "metadata": {
  "kernelspec": {
   "display_name": "Python 3",
   "language": "python",
   "name": "python3"
  },
  "language_info": {
   "codemirror_mode": {
    "name": "ipython",
    "version": 3
   },
   "file_extension": ".py",
   "mimetype": "text/x-python",
   "name": "python",
   "nbconvert_exporter": "python",
   "pygments_lexer": "ipython3",
   "version": "3.7.9"
  }
 },
 "nbformat": 4,
 "nbformat_minor": 5
}
